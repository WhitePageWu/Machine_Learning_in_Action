{
 "cells": [
  {
   "cell_type": "markdown",
   "metadata": {},
   "source": [
    "# 不当言论过滤"
   ]
  },
  {
   "cell_type": "code",
   "execution_count": 1,
   "metadata": {},
   "outputs": [],
   "source": [
    "def loadDataSet():\n",
    "    postingList = [['my', 'dog', 'has', 'flea', 'problems', 'help', 'please'],                #切分的词条\n",
    "                  ['maybe', 'not', 'take', 'him', 'to', 'dog', 'park', 'stupid'],\n",
    "                  ['my', 'dalmation', 'is', 'so', 'cute', 'I', 'love', 'him'],\n",
    "                  ['stop', 'posting', 'stupid', 'worthless', 'garbage'],\n",
    "                  ['mr', 'licks', 'ate', 'my', 'steak', 'how', 'to', 'stop', 'him'],\n",
    "                  ['quit', 'buying', 'worthless', 'dog', 'food', 'stupid']]\n",
    "    classVec = [0,1,0,1,0,1]#1代表侮辱性文字，0代表正常言论\n",
    "    return postingList, classVec\n",
    "\n",
    "def createVocabList(dataSet):\n",
    "    vocabSet = set([])\n",
    "    for document in dataSet:\n",
    "        vocabSet = vocabSet | set(document)\n",
    "    return list(vocabSet)\n",
    "\n",
    "def setOfWord2Vec(vocabList, inputSet):\n",
    "    returnVec = [0]*len(vocabList)\n",
    "    for word in inputSet:\n",
    "        if word in vocabList:\n",
    "            returnVec[vocabList.index(word)] = 1\n",
    "        else:\n",
    "            print(\"the word: %s is not in my Vocabulary!\" % word)\n",
    "    return returnVec"
   ]
  },
  {
   "cell_type": "code",
   "execution_count": 2,
   "metadata": {},
   "outputs": [
    {
     "name": "stdout",
     "output_type": "stream",
     "text": [
      "['him', 'park', 'food', 'garbage', 'please', 'quit', 'has', 'flea', 'dog', 'dalmation', 'take', 'ate', 'not', 'maybe', 'I', 'stop', 'problems', 'how', 'buying', 'help', 'my', 'steak', 'licks', 'is', 'mr', 'posting', 'to', 'so', 'stupid', 'worthless', 'love', 'cute']\n"
     ]
    }
   ],
   "source": [
    "listOPosts, listClasses = loadDataSet()\n",
    "myVocabList = createVocabList(listOPosts)\n",
    "print(myVocabList)\n",
    "trainMat = []\n",
    "for postingDoc in listOPosts:\n",
    "    trainMat.append(setOfWord2Vec(myVocabList,postingDoc))\n"
   ]
  },
  {
   "cell_type": "code",
   "execution_count": 3,
   "metadata": {},
   "outputs": [
    {
     "data": {
      "text/plain": "array([-2.15948425, -3.25809654, -3.25809654, -3.25809654, -2.56494936,\n       -3.25809654, -2.56494936, -2.56494936, -2.56494936, -2.56494936,\n       -3.25809654, -2.56494936, -3.25809654, -3.25809654, -2.56494936,\n       -2.56494936, -2.56494936, -2.56494936, -3.25809654, -2.56494936,\n       -1.87180218, -2.56494936, -2.56494936, -2.56494936, -2.56494936,\n       -3.25809654, -2.56494936, -2.56494936, -3.25809654, -3.25809654,\n       -2.56494936, -2.56494936])"
     },
     "execution_count": 3,
     "metadata": {},
     "output_type": "execute_result"
    }
   ],
   "source": [
    "'''\n",
    "函数说明：朴素贝叶斯分类器训练函数\n",
    "\n",
    "返回值说明：\n",
    "    p0V：p(wi|\"正常言论\")\n",
    "    p1V：p(wi|\"侮辱性言论\")\n",
    "'''\n",
    "import numpy as np\n",
    "def trainNB0(trainMatrix,trainCategory):\n",
    "    numTrainDocs = len(trainMatrix)\n",
    "    numWords = len(trainMatrix[0])\n",
    "    pAbusive = sum(trainCategory)/float(numTrainDocs)#class标记为1的概率,即侮辱性概率\n",
    "    p0Num = np.ones(numWords)\n",
    "    p1Num = np.ones(numWords)\n",
    "    p0Denom = 2.0\n",
    "    p1Denom = 2.0\n",
    "    for i in range(numTrainDocs):\n",
    "        if trainCategory[i] == 1:\n",
    "            p1Num += trainMatrix[i]\n",
    "            p1Denom += sum(trainMatrix[i])\n",
    "        else:\n",
    "            p0Num += trainMatrix[i]\n",
    "            p0Denom += sum(trainMatrix[i])\n",
    "    p1Vect = np.log(p1Num/p1Denom)\n",
    "    p0Vect = np.log(p0Num/p0Denom)\n",
    "    return p0Vect, p1Vect, pAbusive\n",
    "p0V, p1V, pAb = trainNB0(trainMat,listClasses)\n",
    "p0V"
   ]
  },
  {
   "cell_type": "code",
   "execution_count": 14,
   "metadata": {},
   "outputs": [
    {
     "name": "stdout",
     "output_type": "stream",
     "text": [
      "['love', 'my', 'dalmation'] classified as:0\n",
      "['stupid', 'garbage'] classified as:1\n"
     ]
    }
   ],
   "source": [
    "def classifyNB(vec2Classify, p0Vec, p1Vec, pClass1):\n",
    "    p1 = sum(vec2Classify*p1Vec) + np.log(pClass1)\n",
    "    p0 = sum(vec2Classify*p0Vec) + np.log(1.0-pClass1)\n",
    "    if p1>p0:\n",
    "        return 1\n",
    "    else:\n",
    "        return 0\n",
    "\n",
    "def testingNB():\n",
    "    listOPosts, listClasses = loadDataSet()\n",
    "    myVocabList = createVocabList(listOPosts)\n",
    "    trainMat = []\n",
    "    for postingDoc in listOPosts:\n",
    "        trainMat.append(setOfWord2Vec(myVocabList,postingDoc))\n",
    "    p0V,p1V,pAb = trainNB0(np.array(trainMat),np.array(listClasses))\n",
    "    testEntry = ['love','my','dalmation']\n",
    "    thisDoc = np.array(setOfWord2Vec(myVocabList,testEntry))\n",
    "    print(str(testEntry)+\" classified as:\"+str(classifyNB(thisDoc,p0V,p1V,pAb)))\n",
    "    testEntry = ['stupid','garbage']\n",
    "    thisDoc = np.array(setOfWord2Vec(myVocabList,testEntry))\n",
    "    print(str(testEntry)+\" classified as:\"+str(classifyNB(thisDoc,p0V,p1V,pAb)))\n",
    "\n",
    "\n",
    "testingNB()\n"
   ]
  },
  {
   "cell_type": "markdown",
   "metadata": {
    "pycharm": {
     "name": "#%% md"
    }
   },
   "source": []
  }
 ],
 "metadata": {
  "kernelspec": {
   "display_name": "Python 3",
   "language": "python",
   "name": "python3"
  },
  "language_info": {
   "codemirror_mode": {
    "name": "ipython",
    "version": 3
   },
   "file_extension": ".py",
   "mimetype": "text/x-python",
   "name": "python",
   "nbconvert_exporter": "python",
   "pygments_lexer": "ipython3",
   "version": "3.8.5"
  }
 },
 "nbformat": 4,
 "nbformat_minor": 4
}